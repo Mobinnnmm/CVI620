{
 "cells": [
  {
   "cell_type": "code",
   "execution_count": 2,
   "metadata": {},
   "outputs": [],
   "source": [
    "import cv2\n",
    "import numpy as np"
   ]
  },
  {
   "cell_type": "code",
   "execution_count": 3,
   "metadata": {},
   "outputs": [],
   "source": [
    "img1 = \"aaa.jpg\"\n",
    "img2 = \"bb.jpg\"\n",
    "\n",
    "image1 = cv2.imread(img1)\n",
    "\n",
    "if image1 is None:\n",
    "    print(\"Unable to load image\")\n",
    "    exit()\n",
    "    \n",
    "# load the second image\n",
    "image2 = cv2.imread(img2)\n",
    "\n",
    "if image2 is None:\n",
    "    print(\"Unable to load image\")\n",
    "    exit()\n"
   ]
  },
  {
   "cell_type": "code",
   "execution_count": 4,
   "metadata": {},
   "outputs": [],
   "source": [
    "# Ask the user for the alpha value\n",
    "while True:\n",
    "    alpha = float(input(\"Enter the alpha value (0-1): \"))\n",
    "    if 0 <= alpha <= 1:\n",
    "        break\n",
    "    else:\n",
    "        print(\"Alpha value must be between 0 and 1\")\n",
    "\n",
    "# perform linear blending\n",
    "blend = cv2.addWeighted(image1, 1 - alpha, image2, alpha, 0)\n",
    "\n",
    "# display the image\n",
    "cv2.imshow(\"Blending Result\", blend)\n",
    "cv2.imshow(\"Image1\", image1)\n",
    "cv2.imshow(\"Image2\", image2)\n",
    "cv2.waitKey(0)\n",
    "cv2.destroyAllWindows()"
   ]
  },
  {
   "cell_type": "code",
   "execution_count": null,
   "metadata": {},
   "outputs": [],
   "source": []
  }
 ],
 "metadata": {
  "kernelspec": {
   "display_name": "Python (virtualENVdir)",
   "language": "python",
   "name": "virtualenvdir"
  },
  "language_info": {
   "codemirror_mode": {
    "name": "ipython",
    "version": 3
   },
   "file_extension": ".py",
   "mimetype": "text/x-python",
   "name": "python",
   "nbconvert_exporter": "python",
   "pygments_lexer": "ipython3",
   "version": "3.13.1"
  }
 },
 "nbformat": 4,
 "nbformat_minor": 2
}
