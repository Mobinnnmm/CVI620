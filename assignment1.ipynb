{
 "cells": [
  {
   "cell_type": "markdown",
   "metadata": {},
   "source": [
    "imports"
   ]
  },
  {
   "cell_type": "code",
   "execution_count": 1,
   "metadata": {},
   "outputs": [],
   "source": [
    "import os\n",
    "import numpy as np\n",
    "import cv2"
   ]
  },
  {
   "cell_type": "markdown",
   "metadata": {},
   "source": [
    "Question 1: Video capture snapshots"
   ]
  },
  {
   "cell_type": "code",
   "execution_count": null,
   "metadata": {},
   "outputs": [],
   "source": [
    "# get the webcame \n",
    "cam = cv2.VideoCapture(0)\n",
    "\n",
    "\n",
    "if not cam.isOpened():\n",
    "    print(\"Unable to open the webcam\")\n",
    "    exit()\n",
    "    \n",
    "    \n",
    "# setup the dir\n",
    "output_folder = \"Q1_webcam_screenshots\"\n",
    "\n",
    "# create the directory\n",
    "os.makedirs(output_folder, exist_ok=True)\n",
    "\n",
    "\n",
    "def saveSnapshot(frame, counter):\n",
    "    # define the screenshot path\n",
    "    filename = f\"{output_folder}/image{counter}.jpg\"\n",
    "    # save the snapshot\n",
    "    cv2.imwrite(filename, frame)\n",
    "    counter = counter + 1\n",
    "    print(f\"Screenshot saved as {filename}\")\n",
    "    \n",
    "\n",
    "# main loop\n",
    "counter = 1\n",
    "while True:\n",
    "    # capture the frames from the webcam\n",
    "    ret, frame = cam.read()\n",
    "\n",
    "    # check if have successfully captured a frame\n",
    "    if not ret:\n",
    "        print(\"Unable to capture frame\")\n",
    "        exit()\n",
    "\n",
    "    # display the webcam\n",
    "    cv2.imshow(\"webcam\", frame)\n",
    "\n",
    "    # get user input\n",
    "    key = cv2.waitKey(1) & 0XFF\n",
    "\n",
    "    if key == ord('s'):\n",
    "        saveSnapshot(frame, counter)\n",
    "        counter += 1\n",
    "    elif key == ord('q'):\n",
    "        break\n",
    "\n",
    "# Release the VideoCapture object\n",
    "cam.release()\n",
    "cv2.destroyAllWindows()\n",
    "\n",
    "\n"
   ]
  },
  {
   "cell_type": "markdown",
   "metadata": {},
   "source": [
    "Question 2 part A: Adding brightness and contrast to the image"
   ]
  },
  {
   "cell_type": "code",
   "execution_count": null,
   "metadata": {},
   "outputs": [],
   "source": [
    "# load the image\n",
    "immg = \"cat.webp\"\n",
    "image = cv2.imread(immg)\n",
    "\n",
    "# check if the image is loaded\n",
    "if image is None:\n",
    "    print(\"Unable to load image\")\n",
    "    exit()\n",
    "else:\n",
    "    print(\"Image loaded\")\n",
    "    \n",
    "# increase the pixel values of the image to increase the brightness\n",
    "brightness = 150\n",
    "add_brightness = np.ones(image.shape, dtype=\"uint8\") * 150\n",
    "\n",
    "bright_imag = cv2.add(image, add_brightness)\n",
    "\n",
    "# contrasts adjustment\n",
    "contrast = 0.5\n",
    "contrast_img = cv2.add(image, np.array([contrast]))\n",
    "\n",
    "\n",
    "# display the original image\n",
    "cv2.imshow(\"Original image\", image)\n",
    "\n",
    "# display the bright image\n",
    "cv2.imshow(\"Brighter image\", bright_imag)\n",
    "\n",
    "# display the contrasted image\n",
    "cv2.imshow(\"Contrasted image\", contrast_img)\n",
    "\n",
    "cv2.waitKey(0)\n",
    "cv2.destroyAllWindows()\n"
   ]
  },
  {
   "cell_type": "markdown",
   "metadata": {},
   "source": [
    "Question 2: Part B:"
   ]
  },
  {
   "cell_type": "code",
   "execution_count": 2,
   "metadata": {},
   "outputs": [],
   "source": [
    "img1 = \"l1.jpg\"\n",
    "img2 = \"l2.jpg\"\n",
    "\n",
    "image1 = cv2.imread(img1)\n",
    "\n",
    "if image1 is None:\n",
    "    print(\"Unable to load image\")\n",
    "    exit()\n",
    "    \n",
    "# load the second image\n",
    "image2 = cv2.imread(img2)\n",
    "\n",
    "if image2 is None:\n",
    "    print(\"Unable to load image\")\n",
    "    exit()\n",
    "\n",
    "# resize image\n",
    "image2 = cv2.resize(image2, (image1.shape[1], image1.shape[0]))\n",
    "    \n",
    "# Ask the user for the alpha value\n",
    "while True:\n",
    "    alpha = float(input(\"Enter the alpha value (0-1): \"))\n",
    "    if 0 <= alpha <= 1:\n",
    "        break\n",
    "    else:\n",
    "        print(\"Alpha value must be between 0 and 1\")\n",
    "\n",
    "# perform linear blending\n",
    "blend = cv2.addWeighted(image1, 1 - alpha, image2, alpha, 0)\n",
    "\n",
    "# display the image\n",
    "cv2.imshow(\"Blending Result\", blend)\n",
    "cv2.imshow(\"Image1\", image1)\n",
    "cv2.imshow(\"Image2\", image2)\n",
    "cv2.waitKey(0)\n",
    "cv2.destroyAllWindows()\n"
   ]
  },
  {
   "cell_type": "markdown",
   "metadata": {},
   "source": [
    "Question 3: Adding a rectangle and text to an image"
   ]
  },
  {
   "cell_type": "code",
   "execution_count": 7,
   "metadata": {},
   "outputs": [],
   "source": [
    "# load the image\n",
    "img = \"cat.webp\"\n",
    "image = cv2.imread(img)\n",
    "\n",
    "if image is None:\n",
    "    print(\"Unable to load image\")\n",
    "    exit()\n",
    "    \n",
    "# Define where we want to add the rectangle in the image\n",
    "start_point = (50,50)\n",
    "end_point = (400,200)\n",
    "colour = (0, 255, 0)\n",
    "thickness = 4\n",
    "\n",
    "# draw the rectangle\n",
    "cv2.rectangle(image, start_point, end_point, colour, thickness)\n",
    "\n",
    "# adding texts\n",
    "text = \"This is a rectangle\"\n",
    "font = cv2.FONT_HERSHEY_COMPLEX\n",
    "font_scale = 0.5\n",
    "font_colour = (255, 255, 255)\n",
    "font_thickness = 1\n",
    "text_position = (start_point[0] + 20, start_point[1] + 50)\n",
    "\n",
    "cv2.putText(image, text, text_position, font, font_scale, font_colour, font_thickness)\n",
    "\n",
    "\n",
    "cv2.imshow(\"Image with Green rectangle\", image)\n",
    "\n",
    "cv2.waitKey(0)\n",
    "cv2.destroyAllWindows()"
   ]
  }
 ],
 "metadata": {
  "kernelspec": {
   "display_name": "Python (virtualENVdir)",
   "language": "python",
   "name": "virtualenvdir"
  },
  "language_info": {
   "codemirror_mode": {
    "name": "ipython",
    "version": 3
   },
   "file_extension": ".py",
   "mimetype": "text/x-python",
   "name": "python",
   "nbconvert_exporter": "python",
   "pygments_lexer": "ipython3",
   "version": "3.13.1"
  }
 },
 "nbformat": 4,
 "nbformat_minor": 2
}
