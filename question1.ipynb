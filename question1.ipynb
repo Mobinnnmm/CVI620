{
 "cells": [
  {
   "cell_type": "code",
   "execution_count": 1,
   "metadata": {},
   "outputs": [],
   "source": [
    "import cv2\n",
    "import os\n"
   ]
  },
  {
   "cell_type": "code",
   "execution_count": 2,
   "metadata": {},
   "outputs": [
    {
     "name": "stderr",
     "output_type": "stream",
     "text": [
      "2025-02-04 17:11:02.679 Python[16461:100455872] WARNING: AVCaptureDeviceTypeExternal is deprecated for Continuity Cameras. Please use AVCaptureDeviceTypeContinuityCamera and add NSCameraUseContinuityCameraDeviceType to your Info.plist.\n"
     ]
    }
   ],
   "source": [
    "\n",
    "# get the webcame \n",
    "cam = cv2.VideoCapture(0)\n",
    "\n",
    "\n",
    "if not cam.isOpened():\n",
    "    print(\"Unable to open the webcam\")\n",
    "    exit()"
   ]
  },
  {
   "cell_type": "code",
   "execution_count": 3,
   "metadata": {},
   "outputs": [],
   "source": [
    "# setup the dir\n",
    "output_folder = \"Q1_webcam_screenshots\"\n",
    "\n",
    "# create the directory\n",
    "os.makedirs(output_folder, exist_ok=True)\n",
    "\n"
   ]
  },
  {
   "cell_type": "code",
   "execution_count": 4,
   "metadata": {},
   "outputs": [],
   "source": [
    "def saveSnapshot(frame, counter):\n",
    "    # define the screenshot path\n",
    "    filename = f\"{output_folder}/image{counter}.jpg\"\n",
    "    # save the snapshot\n",
    "    cv2.imwrite(filename, frame)\n",
    "    counter = counter + 1\n",
    "    print(f\"Screenshot saved as {filename}\")"
   ]
  },
  {
   "cell_type": "code",
   "execution_count": 5,
   "metadata": {},
   "outputs": [
    {
     "name": "stdout",
     "output_type": "stream",
     "text": [
      "Screenshot saved as Q1_webcam_screenshots/image0.jpg\n",
      "Screenshot saved as Q1_webcam_screenshots/image1.jpg\n",
      "Screenshot saved as Q1_webcam_screenshots/image2.jpg\n"
     ]
    }
   ],
   "source": [
    "# main loop\n",
    "counter = 1\n",
    "while True:\n",
    "    # capture the frames from the webcam\n",
    "    ret, frame = cam.read()\n",
    "\n",
    "    # check if have successfully captured a frame\n",
    "    if not ret:\n",
    "        print(\"Unable to capture frame\")\n",
    "        exit()\n",
    "\n",
    "    # display the webcam\n",
    "    cv2.imshow(\"webcam\", frame)\n",
    "\n",
    "    # get user input\n",
    "    key = cv2.waitKey(1) & 0XFF\n",
    "\n",
    "    if key == ord('s'):\n",
    "        saveSnapshot(frame, counter)\n",
    "        counter += 1\n",
    "    elif key == ord('q'):\n",
    "        break\n",
    "\n",
    "# Release the VideoCapture object\n",
    "cam.release()\n",
    "cv2.destroyAllWindows()\n"
   ]
  }
 ],
 "metadata": {
  "kernelspec": {
   "display_name": "Python (virtualENVdir)",
   "language": "python",
   "name": "virtualenvdir"
  },
  "language_info": {
   "codemirror_mode": {
    "name": "ipython",
    "version": 3
   },
   "file_extension": ".py",
   "mimetype": "text/x-python",
   "name": "python",
   "nbconvert_exporter": "python",
   "pygments_lexer": "ipython3",
   "version": "3.13.1"
  }
 },
 "nbformat": 4,
 "nbformat_minor": 2
}
