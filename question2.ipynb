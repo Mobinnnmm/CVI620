{
 "cells": [
  {
   "cell_type": "code",
   "execution_count": null,
   "metadata": {},
   "outputs": [],
   "source": []
  },
  {
   "cell_type": "code",
   "execution_count": 1,
   "metadata": {},
   "outputs": [],
   "source": [
    "import cv2\n",
    "import numpy as np"
   ]
  },
  {
   "cell_type": "code",
   "execution_count": 3,
   "metadata": {},
   "outputs": [
    {
     "name": "stdout",
     "output_type": "stream",
     "text": [
      "Image loaded\n"
     ]
    }
   ],
   "source": [
    "# load the image\n",
    "immg = \"cat.webp\"\n",
    "image = cv2.imread(immg)\n",
    "\n",
    "# check if the image is loaded\n",
    "if image is None:\n",
    "    print(\"Unable to load image\")\n",
    "    exit()\n",
    "else:\n",
    "    print(\"Image loaded\")"
   ]
  },
  {
   "cell_type": "code",
   "execution_count": 4,
   "metadata": {},
   "outputs": [],
   "source": [
    "# increase the pixel values of the image to increase the brightness\n",
    "brightness = 150\n",
    "img_update = np.array([brightness])\n",
    "\n",
    "bright_imag = cv2.add(image, img_update)\n",
    "\n"
   ]
  },
  {
   "cell_type": "code",
   "execution_count": 7,
   "metadata": {},
   "outputs": [],
   "source": [
    "# contrasts adjustment\n",
    "contrast = 1.5\n",
    "contrast_img = cv2.add(image, np.array([contrast]))"
   ]
  },
  {
   "cell_type": "code",
   "execution_count": 8,
   "metadata": {},
   "outputs": [],
   "source": [
    "# display the original image\n",
    "cv2.imshow(\"Original image\", image)\n",
    "\n",
    "# display the bright image\n",
    "cv2.imshow(\"Brighter image\", bright_imag)\n",
    "\n",
    "# display the contrasted image\n",
    "cv2.imshow(\"Contrasted image\", contrast_img)\n",
    "\n",
    "cv2.waitKey(0)\n",
    "cv2.destroyAllWindows()"
   ]
  }
 ],
 "metadata": {
  "kernelspec": {
   "display_name": "Python (virtualENVdir)",
   "language": "python",
   "name": "virtualenvdir"
  },
  "language_info": {
   "codemirror_mode": {
    "name": "ipython",
    "version": 3
   },
   "file_extension": ".py",
   "mimetype": "text/x-python",
   "name": "python",
   "nbconvert_exporter": "python",
   "pygments_lexer": "ipython3",
   "version": "3.13.1"
  }
 },
 "nbformat": 4,
 "nbformat_minor": 2
}
